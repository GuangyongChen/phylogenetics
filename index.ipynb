{
 "cells": [
  {
   "cell_type": "markdown",
   "metadata": {},
   "source": [
    "# Python API with tools for doing phylogenetics\n",
    "\n",
    "This is the master repository for the `phylogenetics` Python package. This package includes a lightweight, simple-to-use API for managing and processing phylogenetic data. Many of the modules included in this package originated from Dr. [Mike Harms'](https://github.com/harmsm) `phylo_tools` and have been converted to API's. Read the Wiki to learn more about the internal structure. \n",
    "\n",
    "The foundation of this API are the `Homolog` and `HomologSet` objects. These objects offer a simple datastructure that manages the metadata for a set of sequences in a phylogenetics/reconstruction project. These objects are easily queried, updated, and saved into many formats (i.e. fasta, csv, phylip, pickle, and json). \n",
    "\n",
    "An metadata inside a homolog (__dict__ attribute) might look might look like this:\n",
    "\n",
    "```python\n",
    ">>> print(homolog.__dict__)\n",
    "\n",
    "{\n",
    "    \"id\" : \"XX00000000\", \n",
    "    \"species\" : \"S100A5\",\n",
    "    \"organism\" : \"human\",\n",
    "    \"length\" : 180,\n",
    "    \"sequence\" : \"ASKFAFELGSKADGKASEKA...\",\n",
    "    \"latest_align\" : \"----ASK---F-AFELG--SKA---DGKASEK-A---...\",\n",
    "    \"align_1\" : \"--------------ASK-------F-AFELG-----SKA--DFLASEK--A--...\",\n",
    "    \n",
    "    .\n",
    "    .\n",
    "    .\n",
    "}\n",
    "\n",
    ">>> homolog.fasta()\n",
    "\n",
    ">XX00000000\n",
    "ASKFAFELGSKADGKASEKA...\n",
    "\n",
    "\n",
    ">>> homolog.write(\"homolog.fasta\", format=\"fasta\")  # writes to file \"homolog.fasta\"\n",
    "```"
   ]
  },
  {
   "cell_type": "markdown",
   "metadata": {},
   "source": [
    "## Example of phylogenetics pipeline!\n",
    "\n",
    "Check out the example [here](examples/Phylogenetics%20pipeline.ipynb)."
   ]
  },
  {
   "cell_type": "markdown",
   "metadata": {},
   "source": [
    "## Installation\n",
    "\n",
    "### From Pypi\n",
    "\n",
    "Install by:\n",
    "\n",
    "```\n",
    "pip install phylogenetics\n",
    "```\n",
    "\n",
    "\n",
    "### From source\n",
    "\n",
    "Clone this repo locally:\n",
    "\n",
    "```\n",
    "git clone https://github.com/Zsailer/phylogenetics\n",
    "```\n",
    "\n",
    "Navigate to this directory, and install this python package with\n",
    "\n",
    "```\n",
    "python setup.py install\n",
    "```\n",
    "\n",
    "**NOTE:** Many of modules in this API require\n",
    "\n",
    "## Setting up for Development\n",
    "\n",
    "Git must be installed to clone and contribute to this project\n",
    "\n",
    "\n",
    "1. Fork this repository on Github\n",
    "2. Clone that repository locally\n",
    "```\n",
    "git clone https://github.com/Zsailer/phylogenetics\n",
    "```\n",
    "3. Navigate to this directory, and install (softly) this python package with\n",
    "```\n",
    "cd phylogenetics\n",
    "python setup.py develop\n",
    "```\n",
    "4. Add another remote link to the master version, call it `upstream`.\n",
    "```\n",
    "git remote add upstream\n",
    "```\n",
    "5. Start a branch locally from local master\n",
    "```\n",
    "git checkout -B <branch-name>\n",
    "```\n",
    "6. Make changes and commit to that branch.\n",
    "```\n",
    "git commit -a -m \"<commit message>\"\n",
    "```\n",
    "7. Push to your fork on github (which you called `upstream`).\n",
    "```\n",
    "git push upstream <branch-name>\n",
    "```\n",
    "8. Pull request the branch on Github into this master repository on Github."
   ]
  },
  {
   "cell_type": "code",
   "execution_count": null,
   "metadata": {
    "collapsed": true
   },
   "outputs": [],
   "source": []
  }
 ],
 "metadata": {
  "kernelspec": {
   "display_name": "Python 2",
   "language": "python",
   "name": "python2"
  },
  "language_info": {
   "codemirror_mode": {
    "name": "ipython",
    "version": 2
   },
   "file_extension": ".py",
   "mimetype": "text/x-python",
   "name": "python",
   "nbconvert_exporter": "python",
   "pygments_lexer": "ipython2",
   "version": "2.7.6"
  }
 },
 "nbformat": 4,
 "nbformat_minor": 0
}
