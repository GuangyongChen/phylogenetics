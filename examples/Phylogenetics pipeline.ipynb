{
 "cells": [
  {
   "cell_type": "markdown",
   "metadata": {},
   "source": [
    "\n",
    "# Phylogenetics Pipeline\n",
    "\n",
    "This notebook demonstrates a full phylogenetics pipeline using the `phylogenetics` package. In this example, it is assumed that we've already downloaded a set of homologs from NCBI blast and converted them into a `HomologSet` object. To see how to do this, read the wiki on the Github page."
   ]
  },
  {
   "cell_type": "code",
   "execution_count": 1,
   "metadata": {
    "collapsed": true
   },
   "outputs": [],
   "source": [
    "from phylogenetics.homologs import load_homologset\n",
    "\n",
    "hs = load_homologset(\"pickles/01-ubq-sequences.pickle\")"
   ]
  },
  {
   "cell_type": "markdown",
   "metadata": {},
   "source": [
    "## `HomologSet` object"
   ]
  },
  {
   "cell_type": "markdown",
   "metadata": {},
   "source": [
    "The `HomologSet` object in the phylogenetics package is a persistent data-structure for holding, processing, writing, and analyzing a set of homologs in a phylogenetics project. Inside this set are `Homolog` Objects, which hold the metdata of a sequence in the set. \n",
    "\n",
    "**NOTE**: each homolog is given a unique 10 character id.\n",
    "\n",
    "We can print it out to many different formats, including `.pickle`, `.fasta`, `.csv`, `.phylip`, and `.json`.\n",
    "\n",
    "We can look at a single homolog:"
   ]
  },
  {
   "cell_type": "code",
   "execution_count": 2,
   "metadata": {
    "collapsed": false
   },
   "outputs": [
    {
     "data": {
      "text/plain": [
       "{'accession': '3TGD_A',\n",
       " 'blast_query': 'gi|51338685|sp|P62837.1|UB2D2_HUMAN',\n",
       " 'defline': 'Chain A, Crystal Structure Of The Human Ubiquitin-Conjugating Enzyme (E2) Ubch5b',\n",
       " 'evalue': '1.81911e-105',\n",
       " 'gid': 'gi|345111056|pdb|3TGD|A',\n",
       " 'id': 'XX00000000',\n",
       " 'len': '152',\n",
       " 'sequence': 'GAMGSMALKRIHKELNDLARDPPAQCSAGPVGDDMFHWQATIMGPNDSPYQGGVFFLTIHFPTDYPFKPPKVAFTTRIYHPNINSNGSICLDILRSQWSPALTISKVLLSICSLLCDPNPDDPLVPEIARIYKTDREKYNRIAREWTQKYAM'}"
      ]
     },
     "execution_count": 2,
     "metadata": {},
     "output_type": "execute_result"
    }
   ],
   "source": [
    "hs.homologs[0].__dict__"
   ]
  },
  {
   "cell_type": "markdown",
   "metadata": {},
   "source": [
    "We can also print an individual `Homolog` in the formats mentioned above."
   ]
  },
  {
   "cell_type": "code",
   "execution_count": 3,
   "metadata": {
    "collapsed": false
   },
   "outputs": [
    {
     "data": {
      "text/plain": [
       "'sequence,evalue,blast_query,accession,len,defline,gid,idGAMGSMALKRIHKELNDLARDPPAQCSAGPVGDDMFHWQATIMGPNDSPYQGGVFFLTIHFPTDYPFKPPKVAFTTRIYHPNINSNGSICLDILRSQWSPALTISKVLLSICSLLCDPNPDDPLVPEIARIYKTDREKYNRIAREWTQKYAM,1.81911e-105,gi|51338685|sp|P62837.1|UB2D2_HUMAN,3TGD_A,152,Chain A, Crystal Structure Of The Human Ubiquitin-Conjugating Enzyme (E2) Ubch5b,gi|345111056|pdb|3TGD|A,XX00000000\\n'"
      ]
     },
     "execution_count": 3,
     "metadata": {},
     "output_type": "execute_result"
    }
   ],
   "source": [
    "hs.homologs[0].csv()"
   ]
  },
  {
   "cell_type": "code",
   "execution_count": 4,
   "metadata": {
    "collapsed": false
   },
   "outputs": [
    {
     "data": {
      "text/plain": [
       "'{\"sequence\": \"GAMGSMALKRIHKELNDLARDPPAQCSAGPVGDDMFHWQATIMGPNDSPYQGGVFFLTIHFPTDYPFKPPKVAFTTRIYHPNINSNGSICLDILRSQWSPALTISKVLLSICSLLCDPNPDDPLVPEIARIYKTDREKYNRIAREWTQKYAM\", \"evalue\": \"1.81911e-105\", \"blast_query\": \"gi|51338685|sp|P62837.1|UB2D2_HUMAN\", \"accession\": \"3TGD_A\", \"len\": \"152\", \"defline\": \"Chain A, Crystal Structure Of The Human Ubiquitin-Conjugating Enzyme (E2) Ubch5b\", \"gid\": \"gi|345111056|pdb|3TGD|A\", \"id\": \"XX00000000\"}'"
      ]
     },
     "execution_count": 4,
     "metadata": {},
     "output_type": "execute_result"
    }
   ],
   "source": [
    "hs.homologs[0].json()"
   ]
  },
  {
   "cell_type": "code",
   "execution_count": 5,
   "metadata": {
    "collapsed": false
   },
   "outputs": [
    {
     "data": {
      "text/plain": [
       "'>XX00000000\\nGAMGSMALKRIHKELNDLARDPPAQCSAGPVGDDMFHWQATIMGPNDSPYQGGVFFLTIHFPTDYPFKPPKVAFTTRIYHPNINSNGSICLDILRSQWSPALTISKVLLSICSLLCDPNPDDPLVPEIARIYKTDREKYNRIAREWTQKYAM\\n'"
      ]
     },
     "execution_count": 5,
     "metadata": {},
     "output_type": "execute_result"
    }
   ],
   "source": [
    "hs.homologs[0].fasta()"
   ]
  },
  {
   "cell_type": "markdown",
   "metadata": {},
   "source": [
    "## Cluster sequences\n",
    "\n",
    "`phylogenetics` package includes a wrapper around `cdhit`, exposing a simple python API to cluster sequences. This program allows us to cluster sequences that are too similar by defining a cutoff fraction. We can also define accession numbers and species names that we don't want to bury in clusters (see docstring)."
   ]
  },
  {
   "cell_type": "code",
   "execution_count": 8,
   "metadata": {
    "collapsed": false
   },
   "outputs": [
    {
     "name": "stdout",
     "output_type": "stream",
     "text": [
      "Number of clusters:\n",
      "34\n"
     ]
    }
   ],
   "source": [
    "from phylogenetics.cdhit import run_cdhit\n",
    "\n",
    "# Define redundancy cutoff\n",
    "cutoff = 0.99\n",
    "\n",
    "# Run cdhit on homologset\n",
    "hs2 = run_cdhit(hs, redund_cutoff=cutoff)\n",
    "\n",
    "# print the new length of the homologset\n",
    "print(\"Number of clusters:\")\n",
    "print(len(hs2.homologs))\n",
    "\n",
    "# Write this to a file.\n",
    "hs2.write(\"pickles/02-clustered.pickle\", format=\"pickle\")"
   ]
  },
  {
   "cell_type": "markdown",
   "metadata": {},
   "source": [
    "# Multiple Sequence Alignment"
   ]
  },
  {
   "cell_type": "markdown",
   "metadata": {},
   "source": [
    "Using `MSAProbs`, we can also construct a multiple sequence alignment. This will attach a new attribute to each `Homolog` that describes the lastest alignment made. You can add new alignments, if you manually align the homologs, using the `alignment_to_homologset` method."
   ]
  },
  {
   "cell_type": "code",
   "execution_count": 9,
   "metadata": {
    "collapsed": false
   },
   "outputs": [],
   "source": [
    "from phylogenetics.msaprobs import run_msaprobs\n",
    "\n",
    "# Run the Multiple sequence alignment\n",
    "hs3 = run_msaprobs(hs2)\n",
    "\n",
    "# Write this to a file\n",
    "hs3.write(\"pickles/03-aligned.pickle\", format=\"pickle\")"
   ]
  },
  {
   "cell_type": "markdown",
   "metadata": {},
   "source": [
    "# Build a Tree"
   ]
  },
  {
   "cell_type": "markdown",
   "metadata": {},
   "source": [
    "Once we've built an alignment, we can construct a tree from the `HomologSet` using PhyML. This will generate a phylip file on the fly, run through PhyML, and add the tree as an attribute to the `HomologSet`. It will also output a `.nwk` file containing the tree, which can be viewed through any tree viewer."
   ]
  },
  {
   "cell_type": "code",
   "execution_count": 11,
   "metadata": {
    "collapsed": false
   },
   "outputs": [],
   "source": [
    "from phylogenetics.phyml import run_phyml\n",
    "\n",
    "# Run PhyML\n",
    "hs4 = run_phyml(hs3, \"04-tree\") \n",
    "\n",
    "# Write the new homologset to file\n",
    "hs4.write(\"pickles/04-tree.pickles\", format=\"pickle\")"
   ]
  }
 ],
 "metadata": {
  "kernelspec": {
   "display_name": "Python 2",
   "language": "python",
   "name": "python2"
  },
  "language_info": {
   "codemirror_mode": {
    "name": "ipython",
    "version": 2
   },
   "file_extension": ".py",
   "mimetype": "text/x-python",
   "name": "python",
   "nbconvert_exporter": "python",
   "pygments_lexer": "ipython2",
   "version": "2.7.6"
  }
 },
 "nbformat": 4,
 "nbformat_minor": 0
}
