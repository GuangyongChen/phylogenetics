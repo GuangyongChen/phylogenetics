{
 "cells": [
  {
   "cell_type": "markdown",
   "metadata": {},
   "source": [
    "# Multiple sequence alignment"
   ]
  },
  {
   "cell_type": "markdown",
   "metadata": {},
   "source": [
    "With a clean set of non-redundant homologs, we will use `MSAProbs` to build a multiple sequence alignment. Again, `phylogenetics` package has a simple Python API to use MSAProbs. "
   ]
  },
  {
   "cell_type": "code",
   "execution_count": 1,
   "metadata": {
    "collapsed": true
   },
   "outputs": [],
   "source": [
    "from phylogenetics.utils import load_homologset\n",
    "\n",
    "# API for running msaprobs from python\n",
    "from phylogenetics.msaprobs import run_msaprobs"
   ]
  },
  {
   "cell_type": "markdown",
   "metadata": {},
   "source": [
    "As before, we load in the homologset into this notebook. Then, call the `run_msaprobs` function to do a multiple sequence alignment. The aligmments are added to each homolog in the set -- if you run multiple alignments, each iteration is appended to this object as `align##`. The latest alignment is always under the attribute `latest_align`."
   ]
  },
  {
   "cell_type": "code",
   "execution_count": 3,
   "metadata": {
    "collapsed": true
   },
   "outputs": [],
   "source": [
    "homolog_set = load_homologset(\"../fastas/04_clean_homologs.pickle\")\n",
    "aligned_homologs = run_msaprobs(homolog_set)"
   ]
  },
  {
   "cell_type": "markdown",
   "metadata": {},
   "source": [
    "Write to a pickle file."
   ]
  },
  {
   "cell_type": "code",
   "execution_count": 8,
   "metadata": {
    "collapsed": true
   },
   "outputs": [],
   "source": [
    "aligned_homologs.write(\"../fastas/05_aligned_homologs.pickle\", format=\"pickle\")"
   ]
  }
 ],
 "metadata": {
  "kernelspec": {
   "display_name": "Python 3",
   "language": "python",
   "name": "python3"
  },
  "language_info": {
   "codemirror_mode": {
    "name": "ipython",
    "version": 3
   },
   "file_extension": ".py",
   "mimetype": "text/x-python",
   "name": "python",
   "nbconvert_exporter": "python",
   "pygments_lexer": "ipython3",
   "version": "3.4.0"
  }
 },
 "nbformat": 4,
 "nbformat_minor": 0
}
