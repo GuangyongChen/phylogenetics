{
 "cells": [
  {
   "cell_type": "markdown",
   "metadata": {},
   "source": [
    "# Intro to Phylogenetics"
   ]
  },
  {
   "cell_type": "code",
   "execution_count": 1,
   "metadata": {},
   "outputs": [],
   "source": [
    "from phylogenetics import PhylogeneticsProject"
   ]
  },
  {
   "cell_type": "code",
   "execution_count": 2,
   "metadata": {},
   "outputs": [],
   "source": [
    "# Initialize\n",
    "project = PhylogeneticsProject('example', overwrite=True)\n",
    "\n",
    "# Add an alignment\n",
    "project.read_data(\n",
    "    dtype='tips', \n",
    "    path='PF08793_seed.fasta',\n",
    "    schema='fasta'\n",
    ")\n",
    "\n",
    "# Run a tree\n",
    "project.run_tree()\n",
    "\n",
    "# Run a reconstruction\n",
    "project.run_reconstruction()"
   ]
  },
  {
   "cell_type": "code",
   "execution_count": 9,
   "metadata": {},
   "outputs": [
    {
     "data": {
      "application/vnd.vega.v3+json": {
       "$schema": "https://vega.github.io/schema/vega/v3.json",
       "data": [
        {
         "name": "tree",
         "transform": [
          {
           "key": "id",
           "parentKey": "parent",
           "type": "stratify"
          },
          {
           "as": [
            "y0",
            "x0",
            "depth0",
            "children0"
           ],
           "method": "cluster",
           "size": [
            {
             "signal": "height"
            },
            {
             "signal": "width - 100"
            }
           ],
           "type": "tree"
          },
          {
           "as": [
            "y",
            "x",
            "depth",
            "children"
           ],
           "method": "cluster",
           "size": [
            {
             "signal": "height"
            },
            {
             "signal": "width - 100"
            }
           ],
           "type": "tree"
          },
          {
           "as": "x",
           "expr": "datum.distance * branchScale",
           "type": "formula"
          },
          {
           "as": "y",
           "expr": "datum.y0 * (heightScale / 100)",
           "type": "formula"
          }
         ],
         "values": [
          {
           "children": 3,
           "children0": 3,
           "depth": 0,
           "depth0": 0,
           "distance": 0,
           "id": "0",
           "label": "0",
           "length": 0,
           "parent": null,
           "type": "root",
           "x": 0,
           "x0": 0,
           "y": 33.56628024193549,
           "y0": 37.29586693548387
          },
          {
           "children": 0,
           "children0": 0,
           "depth": 1,
           "depth0": 1,
           "distance": 0.38376442,
           "id": "tip0000003",
           "label": "tip0000003",
           "length": 0.38376442,
           "parent": "0",
           "type": "leaf",
           "x": 38.376442,
           "x0": 900,
           "y": 10.451612903225808,
           "y0": 11.612903225806452
          },
          {
           "children": 0,
           "children0": 0,
           "depth": 1,
           "depth0": 1,
           "distance": 0.93473288,
           "id": "tip0000004",
           "label": "tip0000004",
           "length": 0.93473288,
           "parent": "0",
           "type": "leaf",
           "x": 93.473288,
           "x0": 900,
           "y": 20.903225806451616,
           "y0": 23.225806451612904
          },
          {
           "children": 2,
           "children0": 2,
           "depth": 1,
           "depth0": 1,
           "distance": 0.48939921,
           "id": "1",
           "label": "1",
           "length": 0.48939921,
           "parent": "0",
           "type": "node",
           "x": 48.939921,
           "x0": 81.81818181818184,
           "y": 69.34400201612904,
           "y0": 77.04889112903226
          },
          {
           "children": 0,
           "children0": 0,
           "depth": 2,
           "depth0": 2,
           "distance": 1.63522863,
           "id": "tip0000001",
           "label": "tip0000001",
           "length": 1.14582942,
           "parent": "1",
           "type": "leaf",
           "x": 163.522863,
           "x0": 900,
           "y": 41.80645161290323,
           "y0": 46.45161290322581
          },
          {
           "children": 2,
           "children0": 2,
           "depth": 2,
           "depth0": 2,
           "distance": 0.64808533,
           "id": "2",
           "label": "2",
           "length": 0.15868612,
           "parent": "1",
           "type": "node",
           "x": 64.808533,
           "x0": 163.6363636363636,
           "y": 96.88155241935483,
           "y0": 107.6461693548387
          },
          {
           "children": 0,
           "children0": 0,
           "depth": 3,
           "depth0": 3,
           "distance": 1.59117222,
           "id": "tip0000002",
           "label": "tip0000002",
           "length": 0.94308689,
           "parent": "2",
           "type": "leaf",
           "x": 159.117222,
           "x0": 900,
           "y": 62.70967741935483,
           "y0": 69.6774193548387
          },
          {
           "children": 2,
           "children0": 2,
           "depth": 3,
           "depth0": 3,
           "distance": 0.91977455,
           "id": "3",
           "label": "3",
           "length": 0.27168922,
           "parent": "2",
           "type": "node",
           "x": 91.97745499999999,
           "x0": 245.45454545454544,
           "y": 131.05342741935485,
           "y0": 145.61491935483872
          },
          {
           "children": 0,
           "children0": 0,
           "depth": 4,
           "depth0": 4,
           "distance": 1.90954602,
           "id": "tip0000000",
           "label": "tip0000000",
           "length": 0.98977147,
           "parent": "3",
           "type": "leaf",
           "x": 190.954602,
           "x0": 900,
           "y": 83.61290322580646,
           "y0": 92.90322580645162
          },
          {
           "children": 2,
           "children0": 2,
           "depth": 4,
           "depth0": 4,
           "distance": 1.12620016,
           "id": "4",
           "label": "4",
           "length": 0.20642561,
           "parent": "3",
           "type": "node",
           "x": 112.620016,
           "x0": 327.2727272727273,
           "y": 178.49395161290323,
           "y0": 198.3266129032258
          },
          {
           "children": 0,
           "children0": 0,
           "depth": 5,
           "depth0": 5,
           "distance": 2.08326164,
           "id": "tip0000014",
           "label": "tip0000014",
           "length": 0.95706148,
           "parent": "4",
           "type": "leaf",
           "x": 208.326164,
           "x0": 900,
           "y": 104.51612903225806,
           "y0": 116.12903225806451
          },
          {
           "children": 2,
           "children0": 2,
           "depth": 5,
           "depth0": 5,
           "distance": 1.32674209,
           "id": "5",
           "label": "5",
           "length": 0.20054193,
           "parent": "4",
           "type": "node",
           "x": 132.674209,
           "x0": 409.0909090909091,
           "y": 252.47177419354838,
           "y0": 280.5241935483871
          },
          {
           "children": 2,
           "children0": 2,
           "depth": 6,
           "depth0": 6,
           "distance": 1.70582421,
           "id": "6",
           "label": "6",
           "length": 0.37908212,
           "parent": "5",
           "type": "node",
           "x": 170.582421,
           "x0": 490.9090909090909,
           "y": 196.62096774193546,
           "y0": 218.46774193548384
          },
          {
           "children": 2,
           "children0": 2,
           "depth": 7,
           "depth0": 7,
           "distance": 2.01306514,
           "id": "7",
           "label": "7",
           "length": 0.30724093,
           "parent": "6",
           "type": "node",
           "x": 201.30651400000002,
           "x0": 654.5454545454546,
           "y": 142.40322580645162,
           "y0": 158.2258064516129
          },
          {
           "children": 0,
           "children0": 0,
           "depth": 8,
           "depth0": 8,
           "distance": 2.08029829,
           "id": "tip0000011",
           "label": "tip0000011",
           "length": 0.06723315,
           "parent": "7",
           "type": "leaf",
           "x": 208.029829,
           "x0": 900,
           "y": 125.41935483870967,
           "y0": 139.3548387096774
          },
          {
           "children": 2,
           "children0": 2,
           "depth": 8,
           "depth0": 8,
           "distance": 2.1412133300000002,
           "id": "8",
           "label": "8",
           "length": 0.12814819,
           "parent": "7",
           "type": "node",
           "x": 214.12133300000002,
           "x0": 736.3636363636363,
           "y": 159.38709677419354,
           "y0": 177.09677419354838
          },
          {
           "children": 0,
           "children0": 0,
           "depth": 9,
           "depth0": 9,
           "distance": 2.19811709,
           "id": "tip0000012",
           "label": "tip0000012",
           "length": 0.05690376,
           "parent": "8",
           "type": "leaf",
           "x": 219.811709,
           "x0": 900,
           "y": 146.32258064516128,
           "y0": 162.5806451612903
          },
          {
           "children": 2,
           "children0": 2,
           "depth": 9,
           "depth0": 9,
           "distance": 2.7609012799999997,
           "id": "9",
           "label": "9",
           "length": 0.61968795,
           "parent": "8",
           "type": "node",
           "x": 276.090128,
           "x0": 818.1818181818181,
           "y": 172.4516129032258,
           "y0": 191.61290322580643
          },
          {
           "children": 0,
           "children0": 0,
           "depth": 10,
           "depth0": 10,
           "distance": 3.71863087,
           "id": "tip0000005",
           "label": "tip0000005",
           "length": 0.95772959,
           "parent": "9",
           "type": "leaf",
           "x": 371.863087,
           "x0": 900,
           "y": 167.22580645161293,
           "y0": 185.80645161290323
          },
          {
           "children": 0,
           "children0": 0,
           "depth": 10,
           "depth0": 10,
           "distance": 3.3445143,
           "id": "tip0000006",
           "label": "tip0000006",
           "length": 0.58361302,
           "parent": "9",
           "type": "leaf",
           "x": 334.45143,
           "x0": 900,
           "y": 177.6774193548387,
           "y0": 197.41935483870967
          },
          {
           "children": 2,
           "children0": 2,
           "depth": 7,
           "depth0": 7,
           "distance": 1.70609614,
           "id": "10",
           "label": "10",
           "length": 0.00027193,
           "parent": "6",
           "type": "node",
           "x": 170.60961400000002,
           "x0": 572.7272727272727,
           "y": 250.83870967741933,
           "y0": 278.7096774193548
          },
          {
           "children": 2,
           "children0": 2,
           "depth": 8,
           "depth0": 8,
           "distance": 1.91160961,
           "id": "11",
           "label": "11",
           "length": 0.20551347,
           "parent": "10",
           "type": "node",
           "x": 191.160961,
           "x0": 654.5454545454546,
           "y": 219.48387096774192,
           "y0": 243.87096774193546
          },
          {
           "children": 0,
           "children0": 0,
           "depth": 9,
           "depth0": 9,
           "distance": 2.6849990999999997,
           "id": "tip0000013",
           "label": "tip0000013",
           "length": 0.77338949,
           "parent": "11",
           "type": "leaf",
           "x": 268.49991,
           "x0": 900,
           "y": 198.58064516129033,
           "y0": 220.6451612903226
          },
          {
           "children": 2,
           "children0": 2,
           "depth": 9,
           "depth0": 9,
           "distance": 2.00549482,
           "id": "12",
           "label": "12",
           "length": 0.09388521,
           "parent": "11",
           "type": "node",
           "x": 200.549482,
           "x0": 736.3636363636363,
           "y": 240.38709677419357,
           "y0": 267.0967741935484
          },
          {
           "children": 2,
           "children0": 2,
           "depth": 10,
           "depth0": 10,
           "distance": 2.379165,
           "id": "13",
           "label": "13",
           "length": 0.37367018,
           "parent": "12",
           "type": "node",
           "x": 237.91649999999998,
           "x0": 818.1818181818181,
           "y": 224.70967741935485,
           "y0": 249.67741935483872
          },
          {
           "children": 0,
           "children0": 0,
           "depth": 11,
           "depth0": 11,
           "distance": 2.9405012900000003,
           "id": "tip0000007",
           "label": "tip0000007",
           "length": 0.56133629,
           "parent": "13",
           "type": "leaf",
           "x": 294.050129,
           "x0": 900,
           "y": 219.48387096774192,
           "y0": 243.87096774193546
          },
          {
           "children": 0,
           "children0": 0,
           "depth": 11,
           "depth0": 11,
           "distance": 3.02223579,
           "id": "tip0000008",
           "label": "tip0000008",
           "length": 0.64307079,
           "parent": "13",
           "type": "leaf",
           "x": 302.223579,
           "x0": 900,
           "y": 229.93548387096777,
           "y0": 255.48387096774195
          },
          {
           "children": 2,
           "children0": 2,
           "depth": 10,
           "depth0": 10,
           "distance": 2.21072127,
           "id": "14",
           "label": "14",
           "length": 0.20522645,
           "parent": "12",
           "type": "node",
           "x": 221.072127,
           "x0": 818.1818181818181,
           "y": 256.06451612903226,
           "y0": 284.51612903225805
          },
          {
           "children": 0,
           "children0": 0,
           "depth": 11,
           "depth0": 11,
           "distance": 2.52602332,
           "id": "tip0000009",
           "label": "tip0000009",
           "length": 0.31530205,
           "parent": "14",
           "type": "leaf",
           "x": 252.60233200000002,
           "x0": 900,
           "y": 250.83870967741933,
           "y0": 278.7096774193548
          },
          {
           "children": 0,
           "children0": 0,
           "depth": 11,
           "depth0": 11,
           "distance": 2.6714896899999996,
           "id": "tip0000010",
           "label": "tip0000010",
           "length": 0.46076842,
           "parent": "14",
           "type": "leaf",
           "x": 267.14896899999997,
           "x0": 900,
           "y": 261.2903225806452,
           "y0": 290.3225806451613
          },
          {
           "children": 0,
           "children0": 0,
           "depth": 8,
           "depth0": 8,
           "distance": 3.2944440000000004,
           "id": "tip0000017",
           "label": "tip0000017",
           "length": 1.58834786,
           "parent": "10",
           "type": "leaf",
           "x": 329.44440000000003,
           "x0": 900,
           "y": 282.19354838709677,
           "y0": 313.5483870967742
          },
          {
           "children": 2,
           "children0": 2,
           "depth": 6,
           "depth0": 6,
           "distance": 1.68970709,
           "id": "15",
           "label": "15",
           "length": 0.362965,
           "parent": "5",
           "type": "node",
           "x": 168.970709,
           "x0": 818.1818181818181,
           "y": 308.32258064516134,
           "y0": 342.58064516129036
          },
          {
           "children": 0,
           "children0": 0,
           "depth": 7,
           "depth0": 7,
           "distance": 2.32877931,
           "id": "tip0000015",
           "label": "tip0000015",
           "length": 0.63907222,
           "parent": "15",
           "type": "leaf",
           "x": 232.877931,
           "x0": 900,
           "y": 303.09677419354836,
           "y0": 336.7741935483871
          },
          {
           "children": 0,
           "children0": 0,
           "depth": 7,
           "depth0": 7,
           "distance": 2.65713928,
           "id": "tip0000016",
           "label": "tip0000016",
           "length": 0.96743219,
           "parent": "15",
           "type": "leaf",
           "x": 265.713928,
           "x0": 900,
           "y": 313.5483870967742,
           "y0": 348.38709677419354
          }
         ]
        },
        {
         "name": "links",
         "source": "tree",
         "transform": [
          {
           "key": "id",
           "type": "treelinks"
          },
          {
           "orient": "horizontal",
           "shape": "orthogonal",
           "type": "linkpath"
          }
         ]
        },
        {
         "name": "nodes",
         "source": "tree",
         "transform": [
          {
           "expr": "datum.type == 'node'",
           "type": "filter"
          }
         ]
        },
        {
         "name": "leaves",
         "source": "tree",
         "transform": [
          {
           "expr": "datum.type == 'leaf'",
           "type": "filter"
          }
         ]
        }
       ],
       "height": 360,
       "marks": [
        {
         "encode": {
          "update": {
           "path": {
            "field": "path"
           },
           "stroke": {
            "value": "#ccc"
           },
           "strokeWidth": {
            "value": 3
           }
          }
         },
         "from": {
          "data": "links"
         },
         "type": "path"
        },
        {
         "encode": {
          "enter": {
           "size": {
            "value": 70
           },
           "stroke": {
            "value": "#000"
           }
          },
          "update": {
           "fill": {
            "value": "#000"
           },
           "x": {
            "field": "x"
           },
           "y": {
            "field": "y"
           }
          }
         },
         "from": {
          "data": "nodes"
         },
         "name": "ancestor",
         "type": "symbol"
        },
        {
         "encode": {
          "enter": {
           "fill": {
            "value": "#000"
           },
           "text": {
            "field": "label"
           }
          },
          "update": {
           "dx": {
            "value": 2
           },
           "dy": {
            "value": 3
           },
           "x": {
            "field": "x"
           },
           "y": {
            "field": "y"
           }
          }
         },
         "from": {
          "data": "leaves"
         },
         "type": "text"
        }
       ],
       "padding": 5,
       "scales": [
        {
         "domain": {
          "data": "tree",
          "field": "depth"
         },
         "name": "color",
         "range": {
          "scheme": "magma"
         },
         "type": "sequential",
         "zero": true
        }
       ],
       "signals": [
        {
         "bind": {
          "input": "range",
          "max": 500,
          "min": 0,
          "step": 50
         },
         "name": "branchScale",
         "value": 200
        },
        {
         "bind": {
          "input": "range",
          "max": 100,
          "min": 0,
          "step": 5
         },
         "name": "heightScale",
         "value": 100
        },
        {
         "name": "cladify",
         "on": [
          {
           "events": "@ancestor:mousedown, @ancestor:touchstart",
           "update": "datum"
          }
         ],
         "value": "datum"
        }
       ],
       "width": 1000
      }
     },
     "metadata": {},
     "output_type": "display_data"
    }
   ],
   "source": [
    "project.show()"
   ]
  },
  {
   "cell_type": "code",
   "execution_count": 10,
   "metadata": {},
   "outputs": [
    {
     "data": {
      "text/html": [
       "<div>\n",
       "<style scoped>\n",
       "    .dataframe tbody tr th:only-of-type {\n",
       "        vertical-align: middle;\n",
       "    }\n",
       "\n",
       "    .dataframe tbody tr th {\n",
       "        vertical-align: top;\n",
       "    }\n",
       "\n",
       "    .dataframe thead th {\n",
       "        text-align: right;\n",
       "    }\n",
       "</style>\n",
       "<table border=\"1\" class=\"dataframe\">\n",
       "  <thead>\n",
       "    <tr style=\"text-align: right;\">\n",
       "      <th></th>\n",
       "      <th>alt_posterior</th>\n",
       "      <th>alt_sequence</th>\n",
       "      <th>id</th>\n",
       "      <th>ml_posterior</th>\n",
       "      <th>ml_sequence</th>\n",
       "      <th>support</th>\n",
       "      <th>unique_id</th>\n",
       "    </tr>\n",
       "  </thead>\n",
       "  <tbody>\n",
       "    <tr>\n",
       "      <th>0</th>\n",
       "      <td>0.906800</td>\n",
       "      <td>YCPEFAR----DP-TRNPRTGRTIKRGGPTYRALERECSD</td>\n",
       "      <td>27</td>\n",
       "      <td>0.939629</td>\n",
       "      <td>YCDEFAR----DP-TRNPRTGRTIKRGGPTYRALEAECAD</td>\n",
       "      <td>1.680162</td>\n",
       "      <td>anc0000000</td>\n",
       "    </tr>\n",
       "    <tr>\n",
       "      <th>1</th>\n",
       "      <td>0.679886</td>\n",
       "      <td>KCKEFER----NP-TVNPYTGRPIKPGGPVYKTLEKMCSG</td>\n",
       "      <td>23</td>\n",
       "      <td>0.714800</td>\n",
       "      <td>KCKEFEK----NP-TVNPFTGRPIKPGSPIYNTLERMCSG</td>\n",
       "      <td>0.718698</td>\n",
       "      <td>anc0000001</td>\n",
       "    </tr>\n",
       "    <tr>\n",
       "      <th>2</th>\n",
       "      <td>0.620800</td>\n",
       "      <td>RCKQFEK----NP-TVNPLTGRPIAPGGPVANSLKKRCTN</td>\n",
       "      <td>34</td>\n",
       "      <td>0.667229</td>\n",
       "      <td>KCNEFEE----NP-TVNPLTGRPISPGGPIANTLRRMCTN</td>\n",
       "      <td>2.806276</td>\n",
       "      <td>anc0000002</td>\n",
       "    </tr>\n",
       "    <tr>\n",
       "      <th>3</th>\n",
       "      <td>0.935914</td>\n",
       "      <td>YCDEFER----NP-TRNPRTGRTIKRGGPTYRALERECAD</td>\n",
       "      <td>26</td>\n",
       "      <td>0.950114</td>\n",
       "      <td>YCDEFER----NP-TRNPRTGRTIKRGGPVYRALERECSD</td>\n",
       "      <td>8.545520</td>\n",
       "      <td>anc0000003</td>\n",
       "    </tr>\n",
       "    <tr>\n",
       "      <th>4</th>\n",
       "      <td>0.738706</td>\n",
       "      <td>RCEEWER----NP-TINPLTGRTIKRGGPTYKKLEKECG-</td>\n",
       "      <td>30</td>\n",
       "      <td>0.794147</td>\n",
       "      <td>KCDEWEK----NP-TVNPLTGRKIKKGGPTYKKLERECS-</td>\n",
       "      <td>2.531435</td>\n",
       "      <td>anc0000004</td>\n",
       "    </tr>\n",
       "    <tr>\n",
       "      <th>5</th>\n",
       "      <td>0.617086</td>\n",
       "      <td>LCTEYKK----DP-TVNPWTDRPLAPGSPVHDMIYKMCGG</td>\n",
       "      <td>20</td>\n",
       "      <td>0.694571</td>\n",
       "      <td>LCAEFKR----NP-TVNPFTDRPLKPGSPIHNLLHRMCGG</td>\n",
       "      <td>6.040602</td>\n",
       "      <td>anc0000005</td>\n",
       "    </tr>\n",
       "    <tr>\n",
       "      <th>6</th>\n",
       "      <td>0.756706</td>\n",
       "      <td>RCDEWEK----NP-PINPLTGRKIKKNGPTYKKLEKECS-</td>\n",
       "      <td>31</td>\n",
       "      <td>0.789118</td>\n",
       "      <td>KCDEWEK----NP-TVNPLTGRKIKKGGPTYKKLERECG-</td>\n",
       "      <td>0.218717</td>\n",
       "      <td>anc0000006</td>\n",
       "    </tr>\n",
       "    <tr>\n",
       "      <th>7</th>\n",
       "      <td>0.760588</td>\n",
       "      <td>KCEEFEK----NP-TVNPLTGRPIKRGGPVYRALERECS-</td>\n",
       "      <td>29</td>\n",
       "      <td>0.798000</td>\n",
       "      <td>RCDEFER----NP-TVNPLTGRTIKKGGPTYKKLERECS-</td>\n",
       "      <td>0.265099</td>\n",
       "      <td>anc0000007</td>\n",
       "    </tr>\n",
       "    <tr>\n",
       "      <th>8</th>\n",
       "      <td>0.790647</td>\n",
       "      <td>RCSKWKA----NP-LINPLTGRKIKKDGPTYKKLEKECS-</td>\n",
       "      <td>33</td>\n",
       "      <td>0.829824</td>\n",
       "      <td>KCSKWKE----NP-LVNPLTGRKIKKNGPTYKKLERECG-</td>\n",
       "      <td>1.909391</td>\n",
       "      <td>anc0000008</td>\n",
       "    </tr>\n",
       "    <tr>\n",
       "      <th>9</th>\n",
       "      <td>0.686857</td>\n",
       "      <td>RCTEFER----NP-TVNPFTGRPIKPGNPVYKMLYKMCNG</td>\n",
       "      <td>22</td>\n",
       "      <td>0.716829</td>\n",
       "      <td>RCTEFEK----NP-TVNPFTGRPIKPGSPIYNMLHRMCNG</td>\n",
       "      <td>2.503850</td>\n",
       "      <td>anc0000009</td>\n",
       "    </tr>\n",
       "    <tr>\n",
       "      <th>10</th>\n",
       "      <td>0.700371</td>\n",
       "      <td>LCADYKK----SP-TYNPWTDRPLAPGSPVHDMINGMCGG</td>\n",
       "      <td>19</td>\n",
       "      <td>0.754629</td>\n",
       "      <td>LCAEFKR----SP-TYNPWTDRTLAPGSPIHNLISGMCGG</td>\n",
       "      <td>None</td>\n",
       "      <td>anc0000010</td>\n",
       "    </tr>\n",
       "    <tr>\n",
       "      <th>11</th>\n",
       "      <td>0.690590</td>\n",
       "      <td>RCDEWDKVKLKSP-PKNPLTGRKVKKNGPTYKKIDRECAN</td>\n",
       "      <td>32</td>\n",
       "      <td>0.728974</td>\n",
       "      <td>KCDEWEKIRKNSP-PKNPLTGRKIKKDGPTYKKIERECAN</td>\n",
       "      <td>7.484104</td>\n",
       "      <td>anc0000011</td>\n",
       "    </tr>\n",
       "    <tr>\n",
       "      <th>12</th>\n",
       "      <td>0.663714</td>\n",
       "      <td>LCAEFHK----DP-TVNPFTGRPLKPGSPVHKLLYKMCGG</td>\n",
       "      <td>21</td>\n",
       "      <td>0.699171</td>\n",
       "      <td>LCTEFHR----NP-TVNPFTGRPLKPGSPIHNMLHRMCGG</td>\n",
       "      <td>1.162623</td>\n",
       "      <td>anc0000012</td>\n",
       "    </tr>\n",
       "    <tr>\n",
       "      <th>13</th>\n",
       "      <td>0.659714</td>\n",
       "      <td>TCEAFAK----DP-TRNPVTGRKIKRGGPTYRALAEECDG</td>\n",
       "      <td>28</td>\n",
       "      <td>0.682314</td>\n",
       "      <td>TCEEFCR----DP-TRNPVTGQTMRRNGPTYQALAEECDG</td>\n",
       "      <td>2.745285</td>\n",
       "      <td>anc0000013</td>\n",
       "    </tr>\n",
       "    <tr>\n",
       "      <th>14</th>\n",
       "      <td>0.758057</td>\n",
       "      <td>KCEEFEK----NP-TVNPLTGRPIKRGGPVYRALERECSD</td>\n",
       "      <td>25</td>\n",
       "      <td>0.794343</td>\n",
       "      <td>RCDEFER----NP-TVNPLTGRTIKKGGPTYKKLERECSD</td>\n",
       "      <td>6.209727</td>\n",
       "      <td>anc0000014</td>\n",
       "    </tr>\n",
       "    <tr>\n",
       "      <th>15</th>\n",
       "      <td>0.685543</td>\n",
       "      <td>KCNEFER----NP-TVNPLTGRPIKPGGPVYKTLEKMCSD</td>\n",
       "      <td>24</td>\n",
       "      <td>0.712286</td>\n",
       "      <td>KCNEFEK----NP-TVNPFTGRPIKPGGPIYNTLERMCSG</td>\n",
       "      <td>0.677978</td>\n",
       "      <td>anc0000015</td>\n",
       "    </tr>\n",
       "  </tbody>\n",
       "</table>\n",
       "</div>"
      ],
      "text/plain": [
       "    alt_posterior                              alt_sequence  id  ml_posterior  \\\n",
       "0        0.906800  YCPEFAR----DP-TRNPRTGRTIKRGGPTYRALERECSD  27      0.939629   \n",
       "1        0.679886  KCKEFER----NP-TVNPYTGRPIKPGGPVYKTLEKMCSG  23      0.714800   \n",
       "2        0.620800  RCKQFEK----NP-TVNPLTGRPIAPGGPVANSLKKRCTN  34      0.667229   \n",
       "3        0.935914  YCDEFER----NP-TRNPRTGRTIKRGGPTYRALERECAD  26      0.950114   \n",
       "4        0.738706  RCEEWER----NP-TINPLTGRTIKRGGPTYKKLEKECG-  30      0.794147   \n",
       "5        0.617086  LCTEYKK----DP-TVNPWTDRPLAPGSPVHDMIYKMCGG  20      0.694571   \n",
       "6        0.756706  RCDEWEK----NP-PINPLTGRKIKKNGPTYKKLEKECS-  31      0.789118   \n",
       "7        0.760588  KCEEFEK----NP-TVNPLTGRPIKRGGPVYRALERECS-  29      0.798000   \n",
       "8        0.790647  RCSKWKA----NP-LINPLTGRKIKKDGPTYKKLEKECS-  33      0.829824   \n",
       "9        0.686857  RCTEFER----NP-TVNPFTGRPIKPGNPVYKMLYKMCNG  22      0.716829   \n",
       "10       0.700371  LCADYKK----SP-TYNPWTDRPLAPGSPVHDMINGMCGG  19      0.754629   \n",
       "11       0.690590  RCDEWDKVKLKSP-PKNPLTGRKVKKNGPTYKKIDRECAN  32      0.728974   \n",
       "12       0.663714  LCAEFHK----DP-TVNPFTGRPLKPGSPVHKLLYKMCGG  21      0.699171   \n",
       "13       0.659714  TCEAFAK----DP-TRNPVTGRKIKRGGPTYRALAEECDG  28      0.682314   \n",
       "14       0.758057  KCEEFEK----NP-TVNPLTGRPIKRGGPVYRALERECSD  25      0.794343   \n",
       "15       0.685543  KCNEFER----NP-TVNPLTGRPIKPGGPVYKTLEKMCSD  24      0.712286   \n",
       "\n",
       "                                 ml_sequence   support   unique_id  \n",
       "0   YCDEFAR----DP-TRNPRTGRTIKRGGPTYRALEAECAD  1.680162  anc0000000  \n",
       "1   KCKEFEK----NP-TVNPFTGRPIKPGSPIYNTLERMCSG  0.718698  anc0000001  \n",
       "2   KCNEFEE----NP-TVNPLTGRPISPGGPIANTLRRMCTN  2.806276  anc0000002  \n",
       "3   YCDEFER----NP-TRNPRTGRTIKRGGPVYRALERECSD  8.545520  anc0000003  \n",
       "4   KCDEWEK----NP-TVNPLTGRKIKKGGPTYKKLERECS-  2.531435  anc0000004  \n",
       "5   LCAEFKR----NP-TVNPFTDRPLKPGSPIHNLLHRMCGG  6.040602  anc0000005  \n",
       "6   KCDEWEK----NP-TVNPLTGRKIKKGGPTYKKLERECG-  0.218717  anc0000006  \n",
       "7   RCDEFER----NP-TVNPLTGRTIKKGGPTYKKLERECS-  0.265099  anc0000007  \n",
       "8   KCSKWKE----NP-LVNPLTGRKIKKNGPTYKKLERECG-  1.909391  anc0000008  \n",
       "9   RCTEFEK----NP-TVNPFTGRPIKPGSPIYNMLHRMCNG  2.503850  anc0000009  \n",
       "10  LCAEFKR----SP-TYNPWTDRTLAPGSPIHNLISGMCGG      None  anc0000010  \n",
       "11  KCDEWEKIRKNSP-PKNPLTGRKIKKDGPTYKKIERECAN  7.484104  anc0000011  \n",
       "12  LCTEFHR----NP-TVNPFTGRPLKPGSPIHNMLHRMCGG  1.162623  anc0000012  \n",
       "13  TCEEFCR----DP-TRNPVTGQTMRRNGPTYQALAEECDG  2.745285  anc0000013  \n",
       "14  RCDEFER----NP-TVNPLTGRTIKKGGPTYKKLERECSD  6.209727  anc0000014  \n",
       "15  KCNEFEK----NP-TVNPFTGRPIKPGGPIYNTLERMCSG  0.677978  anc0000015  "
      ]
     },
     "execution_count": 10,
     "metadata": {},
     "output_type": "execute_result"
    }
   ],
   "source": [
    "project.ancestors"
   ]
  },
  {
   "cell_type": "code",
   "execution_count": null,
   "metadata": {},
   "outputs": [],
   "source": []
  }
 ],
 "metadata": {
  "kernelspec": {
   "display_name": "Python 3 (phylogenetics)",
   "language": "python",
   "name": "phylogenetics"
  },
  "language_info": {
   "codemirror_mode": {
    "name": "ipython",
    "version": 3
   },
   "file_extension": ".py",
   "mimetype": "text/x-python",
   "name": "python",
   "nbconvert_exporter": "python",
   "pygments_lexer": "ipython3",
   "version": "3.5.4"
  }
 },
 "nbformat": 4,
 "nbformat_minor": 2
}
