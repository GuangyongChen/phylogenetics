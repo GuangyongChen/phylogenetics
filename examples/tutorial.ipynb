{
 "cells": [
  {
   "cell_type": "markdown",
   "metadata": {},
   "source": [
    "# Intro to Phylogenetics"
   ]
  },
  {
   "cell_type": "code",
   "execution_count": 1,
   "metadata": {},
   "outputs": [],
   "source": [
    "from phylogenetics import PhylogeneticsProject"
   ]
  },
  {
   "cell_type": "code",
   "execution_count": 2,
   "metadata": {},
   "outputs": [],
   "source": [
    "# Initialize\n",
    "project = PhylogeneticsProject('example', overwrite=True)\n",
    "\n",
    "# Add an alignment\n",
    "project.read_data(\n",
    "    dtype='tips', \n",
    "    path='PF08793_seed.fasta',\n",
    "    schema='fasta'\n",
    ")\n",
    "\n",
    "# Run a tree\n",
    "project.run_tree()\n",
    "\n",
    "# Run a reconstruction\n",
    "project.run_reconstruction()"
   ]
  }
 ],
 "metadata": {
  "kernelspec": {
   "display_name": "Python 3 (phylogenetics)",
   "language": "python",
   "name": "phylogenetics"
  },
  "language_info": {
   "codemirror_mode": {
    "name": "ipython",
    "version": 3
   },
   "file_extension": ".py",
   "mimetype": "text/x-python",
   "name": "python",
   "nbconvert_exporter": "python",
   "pygments_lexer": "ipython3",
   "version": "3.5.4"
  }
 },
 "nbformat": 4,
 "nbformat_minor": 2
}
