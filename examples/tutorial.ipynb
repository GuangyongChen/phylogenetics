{
 "cells": [
  {
   "cell_type": "markdown",
   "metadata": {},
   "source": [
    "# Intro to Phylogenetics"
   ]
  },
  {
   "cell_type": "code",
   "execution_count": 1,
   "metadata": {},
   "outputs": [],
   "source": [
    "from phylogenetics import PhylogeneticsProject"
   ]
  },
  {
   "cell_type": "code",
   "execution_count": 19,
   "metadata": {},
   "outputs": [],
   "source": [
    "# Initialize\n",
    "project = PhylogeneticsProject('example', overwrite=True)\n",
    "# Add an alignment\n",
    "project.read_data(\n",
    "    #dtype='tips', \n",
    "    path='PF08793_seed.fasta',\n",
    "    schema='fasta'\n",
    ")\n",
    "# Run a tree\n",
    "project.compute_tree()\n",
    "\n",
    "# Run a reconstruction\n",
    "project.compute_reconstruction()"
   ]
  },
  {
   "cell_type": "code",
   "execution_count": 20,
   "metadata": {},
   "outputs": [
    {
     "data": {
      "text/plain": [
       "[{'time': '2018-10-26 17:42:35',\n",
       "  'method': '<function PhylogeneticsProject.__init__ at 0x7fad1e56a510>',\n",
       "  'args': \"('example',)\",\n",
       "  'kwargs': {'overwrite': True}},\n",
       " {'time': '2018-10-26 17:42:36',\n",
       "  'method': '<function PhylogeneticsProject.read_data at 0x7fad1e56a730>',\n",
       "  'args': '()',\n",
       "  'kwargs': {'path': 'PF08793_seed.fasta', 'schema': 'fasta'}},\n",
       " {'time': '2018-10-26 17:42:45',\n",
       "  'method': '<function PhylogeneticsProject.compute_tree at 0x7fad1e56a840>',\n",
       "  'args': '()',\n",
       "  'kwargs': {}},\n",
       " {'time': '2018-10-26 17:42:45',\n",
       "  'method': '<function PhylogeneticsProject.compute_reconstruction at 0x7fad1e56a950>',\n",
       "  'args': '()',\n",
       "  'kwargs': {}}]"
      ]
     },
     "execution_count": 20,
     "metadata": {},
     "output_type": "execute_result"
    }
   ],
   "source": [
    "project.history"
   ]
  },
  {
   "cell_type": "code",
   "execution_count": 14,
   "metadata": {},
   "outputs": [
    {
     "ename": "AttributeError",
     "evalue": "'PhylogeneticsProject' object has no attribute 'show'",
     "output_type": "error",
     "traceback": [
      "\u001b[0;31m------------------------------------------------------------------\u001b[0m",
      "\u001b[0;31mAttributeError\u001b[0m                   Traceback (most recent call last)",
      "\u001b[0;32m<ipython-input-14-4024daed8255>\u001b[0m in \u001b[0;36m<module>\u001b[0;34m\u001b[0m\n\u001b[0;32m----> 1\u001b[0;31m \u001b[0mproject\u001b[0m\u001b[0;34m.\u001b[0m\u001b[0mshow\u001b[0m\u001b[0;34m(\u001b[0m\u001b[0;34m)\u001b[0m\u001b[0;34m\u001b[0m\u001b[0;34m\u001b[0m\u001b[0m\n\u001b[0m",
      "\u001b[0;31mAttributeError\u001b[0m: 'PhylogeneticsProject' object has no attribute 'show'"
     ]
    }
   ],
   "source": [
    "project.show()"
   ]
  },
  {
   "cell_type": "code",
   "execution_count": null,
   "metadata": {
    "collapsed": true
   },
   "outputs": [],
   "source": []
  }
 ],
 "metadata": {
  "kernelspec": {
   "display_name": "phylogenetics (Py 3.6)",
   "language": "python",
   "name": "phylogenetics"
  },
  "language_info": {
   "codemirror_mode": {
    "name": "ipython",
    "version": 3
   },
   "file_extension": ".py",
   "mimetype": "text/x-python",
   "name": "python",
   "nbconvert_exporter": "python",
   "pygments_lexer": "ipython3",
   "version": "3.7.1"
  }
 },
 "nbformat": 4,
 "nbformat_minor": 2
}
