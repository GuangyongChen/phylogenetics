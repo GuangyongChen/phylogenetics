{
 "cells": [
  {
   "cell_type": "markdown",
   "metadata": {},
   "source": [
    "# Intro to Phylogenetics"
   ]
  },
  {
   "cell_type": "code",
   "execution_count": 1,
   "metadata": {},
   "outputs": [],
   "source": [
    "from phylogenetics import PhylogeneticsProject"
   ]
  },
  {
   "cell_type": "code",
   "execution_count": 2,
   "metadata": {},
   "outputs": [
    {
     "data": {
      "text/plain": [
       "PhylogeneticsProject(project_dir=example)\n",
       "    last modified\t2018-07-07 15:04:21\n",
       "    last edit\t\tcompute_tree\n",
       "    tips\t\tTrue\n",
       "        - num of tips\t18\n",
       "    ancs\t\tFalse\n",
       "    tree\t\tTrue"
      ]
     },
     "execution_count": 2,
     "metadata": {},
     "output_type": "execute_result"
    }
   ],
   "source": [
    "# Initialize\n",
    "project = PhylogeneticsProject('example', overwrite=True)\n",
    "\n",
    "# Add an alignment\n",
    "project.read_data(\n",
    "    dtype='tips', \n",
    "    path='PF08793_seed.fasta',\n",
    "    schema='fasta'\n",
    ")\n",
    "\n",
    "# Run a tree\n",
    "project.compute_tree()\n",
    "\n",
    "# Run a reconstruction\n",
    "# project.compute_reconstruction()"
   ]
  },
  {
   "cell_type": "code",
   "execution_count": 3,
   "metadata": {},
   "outputs": [
    {
     "data": {
      "application/vnd.vega.v3+json": {
       "$schema": "https://vega.github.io/schema/vega/v3.json",
       "data": [
        {
         "name": "tree",
         "transform": [
          {
           "key": "id",
           "parentKey": "parent",
           "type": "stratify"
          },
          {
           "as": [
            "y0",
            "x0",
            "depth0",
            "children0"
           ],
           "method": "cluster",
           "size": [
            {
             "signal": "height"
            },
            {
             "signal": "width - 100"
            }
           ],
           "type": "tree"
          },
          {
           "as": [
            "y",
            "x",
            "depth",
            "children"
           ],
           "method": "cluster",
           "size": [
            {
             "signal": "height"
            },
            {
             "signal": "width - 100"
            }
           ],
           "type": "tree"
          },
          {
           "as": "x",
           "expr": "datum.distance * branchScale",
           "type": "formula"
          },
          {
           "as": "y",
           "expr": "datum.y0 * (heightScale / 100)",
           "type": "formula"
          }
         ],
         "values": [
          {
           "children": 3,
           "children0": 3,
           "depth": 0,
           "depth0": 0,
           "distance": 0,
           "id": "0",
           "label": "0",
           "length": 0,
           "parent": null,
           "type": "root",
           "x": 0,
           "x0": 0,
           "y": 37.24296875,
           "y0": 57.29687500000001
          },
          {
           "children": 0,
           "children0": 0,
           "depth": 1,
           "depth0": 1,
           "distance": 0.40447589,
           "id": ">tip0000003",
           "label": ">tip0000003",
           "length": 0.40447589,
           "parent": "0",
           "type": "leaf",
           "x": 40.447589,
           "x0": 900,
           "y": 7.800000000000001,
           "y0": 12
          },
          {
           "children": 0,
           "children0": 0,
           "depth": 1,
           "depth0": 1,
           "distance": 1.02220236,
           "id": ">tip0000004",
           "label": ">tip0000004",
           "length": 1.02220236,
           "parent": "0",
           "type": "leaf",
           "x": 102.22023600000001,
           "x0": 900,
           "y": 15.600000000000001,
           "y0": 24
          },
          {
           "children": 2,
           "children0": 2,
           "depth": 1,
           "depth0": 1,
           "distance": 0.60002173,
           "id": "1",
           "label": "1",
           "length": 0.60002173,
           "parent": "0",
           "type": "node",
           "x": 60.002173000000006,
           "x0": 89.99999999999999,
           "y": 88.32890625,
           "y0": 135.890625
          },
          {
           "children": 0,
           "children0": 0,
           "depth": 2,
           "depth0": 2,
           "distance": 1.7892317700000002,
           "id": ">tip0000001",
           "label": ">tip0000001",
           "length": 1.18921004,
           "parent": "1",
           "type": "leaf",
           "x": 178.923177,
           "x0": 900,
           "y": 31.200000000000003,
           "y0": 48
          },
          {
           "children": 2,
           "children0": 2,
           "depth": 2,
           "depth0": 2,
           "distance": 0.8721299,
           "id": "2",
           "label": "2",
           "length": 0.27210817,
           "parent": "1",
           "type": "node",
           "x": 87.21299,
           "x0": 179.99999999999997,
           "y": 145.45781250000002,
           "y0": 223.78125
          },
          {
           "children": 2,
           "children0": 2,
           "depth": 3,
           "depth0": 3,
           "distance": 1.10113196,
           "id": "3",
           "label": "3",
           "length": 0.22900206,
           "parent": "2",
           "type": "node",
           "x": 110.113196,
           "x0": 270.00000000000006,
           "y": 68.61562500000001,
           "y0": 105.5625
          },
          {
           "children": 0,
           "children0": 0,
           "depth": 4,
           "depth0": 4,
           "distance": 2.29163469,
           "id": ">tip0000000",
           "label": ">tip0000000",
           "length": 1.19050273,
           "parent": "3",
           "type": "leaf",
           "x": 229.163469,
           "x0": 900,
           "y": 46.800000000000004,
           "y0": 72
          },
          {
           "children": 2,
           "children0": 2,
           "depth": 4,
           "depth0": 4,
           "distance": 1.2905632599999999,
           "id": "4",
           "label": "4",
           "length": 0.1894313,
           "parent": "3",
           "type": "node",
           "x": 129.05632599999998,
           "x0": 360,
           "y": 90.43125,
           "y0": 139.125
          },
          {
           "children": 0,
           "children0": 0,
           "depth": 5,
           "depth0": 5,
           "distance": 2.25044808,
           "id": ">tip0000014",
           "label": ">tip0000014",
           "length": 0.95988482,
           "parent": "4",
           "type": "leaf",
           "x": 225.044808,
           "x0": 900,
           "y": 62.400000000000006,
           "y0": 96
          },
          {
           "children": 2,
           "children0": 2,
           "depth": 5,
           "depth0": 5,
           "distance": 1.5555926800000002,
           "id": "5",
           "label": "5",
           "length": 0.26502942,
           "parent": "4",
           "type": "node",
           "x": 155.55926800000003,
           "x0": 450,
           "y": 118.4625,
           "y0": 182.25
          },
          {
           "children": 2,
           "children0": 2,
           "depth": 6,
           "depth0": 6,
           "distance": 1.9537204300000002,
           "id": "6",
           "label": "6",
           "length": 0.39812775,
           "parent": "5",
           "type": "node",
           "x": 195.37204300000002,
           "x0": 720,
           "y": 87.75,
           "y0": 135
          },
          {
           "children": 0,
           "children0": 0,
           "depth": 7,
           "depth0": 7,
           "distance": 2.58947474,
           "id": ">tip0000015",
           "label": ">tip0000015",
           "length": 0.63575431,
           "parent": "6",
           "type": "leaf",
           "x": 258.947474,
           "x0": 900,
           "y": 78,
           "y0": 120
          },
          {
           "children": 2,
           "children0": 2,
           "depth": 7,
           "depth0": 7,
           "distance": 2.41891212,
           "id": "7",
           "label": "7",
           "length": 0.46519169,
           "parent": "6",
           "type": "node",
           "x": 241.891212,
           "x0": 810,
           "y": 97.5,
           "y0": 150
          },
          {
           "children": 0,
           "children0": 0,
           "depth": 8,
           "depth0": 8,
           "distance": 3.60599247,
           "id": ">tip0000017",
           "label": ">tip0000017",
           "length": 1.18708035,
           "parent": "7",
           "type": "leaf",
           "x": 360.599247,
           "x0": 900,
           "y": 93.60000000000001,
           "y0": 144
          },
          {
           "children": 0,
           "children0": 0,
           "depth": 8,
           "depth0": 8,
           "distance": 3.0432016,
           "id": ">tip0000016",
           "label": ">tip0000016",
           "length": 0.62428948,
           "parent": "7",
           "type": "leaf",
           "x": 304.32016000000004,
           "x0": 900,
           "y": 101.4,
           "y0": 156
          },
          {
           "children": 2,
           "children0": 2,
           "depth": 6,
           "depth0": 6,
           "distance": 2.0023962699999998,
           "id": "8",
           "label": "8",
           "length": 0.44680359,
           "parent": "5",
           "type": "node",
           "x": 200.23962699999998,
           "x0": 540,
           "y": 149.17499999999998,
           "y0": 229.49999999999997
          },
          {
           "children": 2,
           "children0": 2,
           "depth": 7,
           "depth0": 7,
           "distance": 2.22711372,
           "id": "9",
           "label": "9",
           "length": 0.22471745,
           "parent": "8",
           "type": "node",
           "x": 222.711372,
           "x0": 720,
           "y": 126.75,
           "y0": 195
          },
          {
           "children": 0,
           "children0": 0,
           "depth": 8,
           "depth0": 8,
           "distance": 2.29345178,
           "id": ">tip0000011",
           "label": ">tip0000011",
           "length": 0.06633806,
           "parent": "9",
           "type": "leaf",
           "x": 229.34517799999998,
           "x0": 900,
           "y": 117,
           "y0": 180
          },
          {
           "children": 2,
           "children0": 2,
           "depth": 8,
           "depth0": 8,
           "distance": 2.42992596,
           "id": "10",
           "label": "10",
           "length": 0.20281224,
           "parent": "9",
           "type": "node",
           "x": 242.992596,
           "x0": 810,
           "y": 136.5,
           "y0": 210
          },
          {
           "children": 0,
           "children0": 0,
           "depth": 9,
           "depth0": 9,
           "distance": 2.42992596,
           "id": ">tip0000012",
           "label": ">tip0000012",
           "length": 0,
           "parent": "10",
           "type": "leaf",
           "x": 242.992596,
           "x0": 900,
           "y": 132.6,
           "y0": 204
          },
          {
           "children": 0,
           "children0": 0,
           "depth": 9,
           "depth0": 9,
           "distance": 3.8418772599999995,
           "id": ">tip0000006",
           "label": ">tip0000006",
           "length": 1.4119513,
           "parent": "10",
           "type": "leaf",
           "x": 384.18772599999994,
           "x0": 900,
           "y": 140.4,
           "y0": 216
          },
          {
           "children": 2,
           "children0": 2,
           "depth": 7,
           "depth0": 7,
           "distance": 2.31042918,
           "id": "11",
           "label": "11",
           "length": 0.30803291,
           "parent": "8",
           "type": "node",
           "x": 231.042918,
           "x0": 630,
           "y": 171.6,
           "y0": 264
          },
          {
           "children": 0,
           "children0": 0,
           "depth": 8,
           "depth0": 8,
           "distance": 3.0976350900000003,
           "id": ">tip0000013",
           "label": ">tip0000013",
           "length": 0.78720591,
           "parent": "11",
           "type": "leaf",
           "x": 309.763509,
           "x0": 900,
           "y": 156,
           "y0": 240
          },
          {
           "children": 2,
           "children0": 2,
           "depth": 8,
           "depth0": 8,
           "distance": 2.52212743,
           "id": "12",
           "label": "12",
           "length": 0.21169825,
           "parent": "11",
           "type": "node",
           "x": 252.212743,
           "x0": 720,
           "y": 187.20000000000002,
           "y0": 288
          },
          {
           "children": 2,
           "children0": 2,
           "depth": 9,
           "depth0": 9,
           "distance": 2.9353228600000003,
           "id": "13",
           "label": "13",
           "length": 0.41319543,
           "parent": "12",
           "type": "node",
           "x": 293.53228600000006,
           "x0": 810,
           "y": 175.5,
           "y0": 270
          },
          {
           "children": 0,
           "children0": 0,
           "depth": 10,
           "depth0": 10,
           "distance": 3.58549069,
           "id": ">tip0000007",
           "label": ">tip0000007",
           "length": 0.65016783,
           "parent": "13",
           "type": "leaf",
           "x": 358.549069,
           "x0": 900,
           "y": 171.6,
           "y0": 264
          },
          {
           "children": 0,
           "children0": 0,
           "depth": 10,
           "depth0": 10,
           "distance": 3.57977709,
           "id": ">tip0000008",
           "label": ">tip0000008",
           "length": 0.64445423,
           "parent": "13",
           "type": "leaf",
           "x": 357.977709,
           "x0": 900,
           "y": 179.4,
           "y0": 276
          },
          {
           "children": 2,
           "children0": 2,
           "depth": 9,
           "depth0": 9,
           "distance": 2.6910838,
           "id": "14",
           "label": "14",
           "length": 0.16895637,
           "parent": "12",
           "type": "node",
           "x": 269.10838,
           "x0": 810,
           "y": 198.9,
           "y0": 306
          },
          {
           "children": 0,
           "children0": 0,
           "depth": 10,
           "depth0": 10,
           "distance": 3.1854280900000003,
           "id": ">tip0000010",
           "label": ">tip0000010",
           "length": 0.49434429,
           "parent": "14",
           "type": "leaf",
           "x": 318.54280900000003,
           "x0": 900,
           "y": 195,
           "y0": 300
          },
          {
           "children": 0,
           "children0": 0,
           "depth": 10,
           "depth0": 10,
           "distance": 3.0341281,
           "id": ">tip0000009",
           "label": ">tip0000009",
           "length": 0.3430443,
           "parent": "14",
           "type": "leaf",
           "x": 303.41281000000004,
           "x0": 900,
           "y": 202.8,
           "y0": 312
          },
          {
           "children": 2,
           "children0": 2,
           "depth": 3,
           "depth0": 3,
           "distance": 1.0841002400000002,
           "id": "15",
           "label": "15",
           "length": 0.21197034,
           "parent": "2",
           "type": "node",
           "x": 108.41002400000002,
           "x0": 810,
           "y": 222.3,
           "y0": 342
          },
          {
           "children": 0,
           "children0": 0,
           "depth": 4,
           "depth0": 4,
           "distance": 2.23197987,
           "id": ">tip0000005",
           "label": ">tip0000005",
           "length": 1.14787963,
           "parent": "15",
           "type": "leaf",
           "x": 223.197987,
           "x0": 900,
           "y": 218.4,
           "y0": 336
          },
          {
           "children": 0,
           "children0": 0,
           "depth": 4,
           "depth0": 4,
           "distance": 1.92976796,
           "id": ">tip0000002",
           "label": ">tip0000002",
           "length": 0.84566772,
           "parent": "15",
           "type": "leaf",
           "x": 192.976796,
           "x0": 900,
           "y": 226.20000000000002,
           "y0": 348
          }
         ]
        },
        {
         "name": "links",
         "source": "tree",
         "transform": [
          {
           "key": "id",
           "type": "treelinks"
          },
          {
           "orient": "horizontal",
           "shape": "orthogonal",
           "type": "linkpath"
          }
         ]
        },
        {
         "name": "nodes",
         "source": "tree",
         "transform": [
          {
           "expr": "datum.type == 'node'",
           "type": "filter"
          }
         ]
        },
        {
         "name": "leaves",
         "source": "tree",
         "transform": [
          {
           "expr": "datum.type == 'leaf'",
           "type": "filter"
          }
         ]
        }
       ],
       "height": 360,
       "marks": [
        {
         "encode": {
          "update": {
           "path": {
            "field": "path"
           },
           "stroke": {
            "value": "#ccc"
           },
           "strokeWidth": {
            "value": 3
           }
          }
         },
         "from": {
          "data": "links"
         },
         "type": "path"
        },
        {
         "encode": {
          "enter": {
           "size": {
            "value": 70
           },
           "stroke": {
            "value": "#000"
           }
          },
          "update": {
           "fill": {
            "value": "#000"
           },
           "x": {
            "field": "x"
           },
           "y": {
            "field": "y"
           }
          }
         },
         "from": {
          "data": "nodes"
         },
         "name": "ancestor",
         "type": "symbol"
        },
        {
         "encode": {
          "enter": {
           "fill": {
            "value": "#000"
           },
           "text": {
            "field": "label"
           }
          },
          "update": {
           "dx": {
            "value": 2
           },
           "dy": {
            "value": 3
           },
           "x": {
            "field": "x"
           },
           "y": {
            "field": "y"
           }
          }
         },
         "from": {
          "data": "leaves"
         },
         "type": "text"
        }
       ],
       "padding": 5,
       "scales": [
        {
         "domain": {
          "data": "tree",
          "field": "depth"
         },
         "name": "color",
         "range": {
          "scheme": "magma"
         },
         "type": "sequential",
         "zero": true
        }
       ],
       "signals": [
        {
         "bind": {
          "input": "range",
          "max": 500,
          "min": 0,
          "step": 50
         },
         "name": "branchScale",
         "value": 200
        },
        {
         "bind": {
          "input": "range",
          "max": 100,
          "min": 0,
          "step": 5
         },
         "name": "heightScale",
         "value": 100
        },
        {
         "name": "cladify",
         "on": [
          {
           "events": "@ancestor:mousedown, @ancestor:touchstart",
           "update": "datum"
          }
         ],
         "value": "datum"
        }
       ],
       "width": 1000
      },
      "image/png": "[encoded data removed]"
     },
     "metadata": {},
     "output_type": "display_data"
    }
   ],
   "source": [
    "project.show()"
   ]
  }
 ],
 "metadata": {
  "kernelspec": {
   "display_name": "phylo-env (Python 3.6)",
   "language": "python",
   "name": "phylo-env"
  },
  "language_info": {
   "codemirror_mode": {
    "name": "ipython",
    "version": 3
   },
   "file_extension": ".py",
   "mimetype": "text/x-python",
   "name": "python",
   "nbconvert_exporter": "python",
   "pygments_lexer": "ipython3",
   "version": "3.6.6"
  }
 },
 "nbformat": 4,
 "nbformat_minor": 2
}
