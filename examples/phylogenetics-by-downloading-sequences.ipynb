{
 "cells": [
  {
   "cell_type": "markdown",
   "metadata": {},
   "source": [
    "# Downloading Project"
   ]
  },
  {
   "cell_type": "markdown",
   "metadata": {},
   "source": [
    "Imports from phylogenetics project."
   ]
  },
  {
   "cell_type": "code",
   "execution_count": 14,
   "metadata": {
    "collapsed": false
   },
   "outputs": [],
   "source": [
    "from phylogenetics.project import Project"
   ]
  },
  {
   "cell_type": "code",
   "execution_count": 15,
   "metadata": {
    "collapsed": true
   },
   "outputs": [],
   "source": [
    "# List of accession ids to download from BLAST database.\n",
    "accessions = [\"AGH62057\",\n",
    "    \"NP_004553\",\n",
    "    \"AHW56551\",\n",
    "    \"BAA25751\",\n",
    "    \"ABN46990\"\n",
    "]"
   ]
  },
  {
   "cell_type": "markdown",
   "metadata": {},
   "source": [
    "Like always, Initialize a phylogenetics project object."
   ]
  },
  {
   "cell_type": "code",
   "execution_count": 16,
   "metadata": {
    "collapsed": true
   },
   "outputs": [],
   "source": [
    "project = Project()"
   ]
  },
  {
   "cell_type": "markdown",
   "metadata": {},
   "source": [
    "Download the metadata (i.e. sequences, ids, species, organism, etc.) from BLAST database. You must give BLAST your email for tracking purposes."
   ]
  },
  {
   "cell_type": "code",
   "execution_count": 17,
   "metadata": {
    "collapsed": true
   },
   "outputs": [],
   "source": [
    "project.download(accessions, \"zachsailer@gmail.com\")"
   ]
  },
  {
   "cell_type": "markdown",
   "metadata": {},
   "source": [
    "Align the downloaded sequences using MSAProbs."
   ]
  },
  {
   "cell_type": "code",
   "execution_count": 18,
   "metadata": {
    "collapsed": false
   },
   "outputs": [
    {
     "name": "stdout",
     "output_type": "stream",
     "text": [
      "Alignment finished.\n"
     ]
    }
   ],
   "source": [
    "project.align()"
   ]
  },
  {
   "cell_type": "markdown",
   "metadata": {},
   "source": [
    "Construct a phylogenetic tree of the sequences using PhyML"
   ]
  },
  {
   "cell_type": "code",
   "execution_count": 19,
   "metadata": {
    "collapsed": true
   },
   "outputs": [],
   "source": [
    "project.tree()"
   ]
  },
  {
   "cell_type": "markdown",
   "metadata": {},
   "source": [
    "Reconstruct the ancestral sequences at each node in the tree."
   ]
  },
  {
   "cell_type": "code",
   "execution_count": 20,
   "metadata": {
    "collapsed": false
   },
   "outputs": [],
   "source": [
    "project.reconstruct()"
   ]
  },
  {
   "cell_type": "code",
   "execution_count": 21,
   "metadata": {
    "collapsed": false
   },
   "outputs": [
    {
     "name": "stdout",
     "output_type": "stream",
     "text": [
      "/---------------------------------------------------------------------------------------------- XX00000004\n",
      "|                                                                                                         \n",
      "|                                              /----------------------------------------------- XX00000002\n",
      "+----------------------------------------------+                                                          \n",
      "|                                              \\----------------------------------------------- XX00000003\n",
      "|                                                                                                         \n",
      "|                                              /----------------------------------------------- XX00000005\n",
      "\\----------------------------------------------+                                                          \n",
      "                                               \\----------------------------------------------- XX00000001\n",
      "                                                                                                          \n",
      "                                                                                                          \n"
     ]
    }
   ],
   "source": [
    "project.Tree._DendroPyTree.print_plot()"
   ]
  },
  {
   "cell_type": "code",
   "execution_count": 22,
   "metadata": {
    "collapsed": false
   },
   "outputs": [],
   "source": [
    "project.HomologSet.Write.fasta(fname=\"file-to-load.fasta\")"
   ]
  },
  {
   "cell_type": "code",
   "execution_count": 23,
   "metadata": {
    "collapsed": false
   },
   "outputs": [],
   "source": [
    "project.HomologSet.Write.csv(fname=\"file-to-load.csv\",\n",
    "    tags=(\"id\",\"accver\",\"orgname\",\"sequence\",\"taxid\", \"latest_align\")\n",
    ")"
   ]
  },
  {
   "cell_type": "code",
   "execution_count": null,
   "metadata": {
    "collapsed": true
   },
   "outputs": [],
   "source": []
  }
 ],
 "metadata": {
  "kernelspec": {
   "display_name": "Python 3",
   "language": "python",
   "name": "python3"
  },
  "language_info": {
   "codemirror_mode": {
    "name": "ipython",
    "version": 3
   },
   "file_extension": ".py",
   "mimetype": "text/x-python",
   "name": "python",
   "nbconvert_exporter": "python",
   "pygments_lexer": "ipython3",
   "version": "3.5.0"
  }
 },
 "nbformat": 4,
 "nbformat_minor": 0
}
