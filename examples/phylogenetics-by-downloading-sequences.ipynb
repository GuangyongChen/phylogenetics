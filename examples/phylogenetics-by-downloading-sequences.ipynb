{
 "cells": [
  {
   "cell_type": "markdown",
   "metadata": {},
   "source": [
    "# Downloading Project"
   ]
  },
  {
   "cell_type": "markdown",
   "metadata": {},
   "source": [
    "Imports from phylogenetics project."
   ]
  },
  {
   "cell_type": "code",
   "execution_count": 1,
   "metadata": {
    "collapsed": false
   },
   "outputs": [],
   "source": [
    "from phylogenetics.project import Project"
   ]
  },
  {
   "cell_type": "code",
   "execution_count": 2,
   "metadata": {
    "collapsed": true
   },
   "outputs": [],
   "source": [
    "# List of accession ids to download from BLAST database.\n",
    "accessions = [\"AGH62057\",\n",
    "    \"NP_004553\",\n",
    "    \"AHW56551\",\n",
    "    \"BAA25751\",\n",
    "    \"ABN46990\"\n",
    "]"
   ]
  },
  {
   "cell_type": "markdown",
   "metadata": {},
   "source": [
    "Like always, Initialize a phylogenetics project object."
   ]
  },
  {
   "cell_type": "code",
   "execution_count": 3,
   "metadata": {
    "collapsed": true
   },
   "outputs": [],
   "source": [
    "project = Project()"
   ]
  },
  {
   "cell_type": "markdown",
   "metadata": {},
   "source": [
    "Download the metadata (i.e. sequences, ids, species, organism, etc.) from BLAST database. You must give BLAST your email for tracking purposes."
   ]
  },
  {
   "cell_type": "code",
   "execution_count": 4,
   "metadata": {
    "collapsed": false
   },
   "outputs": [
    {
     "name": "stdout",
     "output_type": "stream",
     "text": [
      "This will take roughly 7 seconds\n",
      "Done.\n"
     ]
    }
   ],
   "source": [
    "project.download(accessions, \"zachsailer@gmail.com\")\n",
    "project.HomologSet.download_taxonomy()"
   ]
  },
  {
   "cell_type": "markdown",
   "metadata": {},
   "source": [
    "Align the downloaded sequences using MSAProbs."
   ]
  },
  {
   "cell_type": "code",
   "execution_count": 5,
   "metadata": {
    "collapsed": false
   },
   "outputs": [
    {
     "name": "stdout",
     "output_type": "stream",
     "text": [
      "Alignment finished.\n"
     ]
    }
   ],
   "source": [
    "project.align()"
   ]
  },
  {
   "cell_type": "code",
   "execution_count": 6,
   "metadata": {
    "collapsed": false
   },
   "outputs": [
    {
     "data": {
      "text/plain": [
       "{'accver': 'AGH62057.1',\n",
       " 'defline': 'PARK2 splice variant [Homo sapiens]',\n",
       " 'gi': '469609977',\n",
       " 'id': 'XX00000001',\n",
       " 'length': '530',\n",
       " 'orgname': 'Homo sapiens',\n",
       " 'seqtype': 'None',\n",
       " 'sequence': 'MIESRSIASLECSGAISAHCILRLPGSSHSSASASLECNGTISAHCNLCLLSSSDSPVSASQVAEITVFVRFNSSHGFPVEVDSDTSIFQLKEVVAKRQGVPADQLRVIFAGKELRNDWTVQNCDLDQQSIVHIVQRPWRKGQEMNATGGDDPRNAAGGCEREPQSLTRVDLSSSVLPGDSVGLAVILHTDSRKDSPPAGSPAGRSIYNSFYVYCKGPCQRVQPGKLRVQCSTCRQATLTLTQGPSCWDDVLIPNRMSGECQSPHCPGTSAEFFFKCGAHPTSDKETSVALHLIATNSRNITCITCTDVRSPVLVFQCNSRHVICLDCFHLYCVTRLNDRQFVHDPQLGYSLPCVAGCPNSLIKELHHFRILGEEQYNRYQQYGAEECVLQMGGVLCPRPGCGAGLLPEPDQRKVTCEGGNGLGCGFAFCRECKEAYHEGECSAVFEASGTTTQAYRVDERAAEQARWEAASKETIKKTTKPCPRCHVPVEKNGGCMHMKCPQPQCRLEWCWNCGCEWNRVCMGDHWFDV',\n",
       " 'taxid': '9606'}"
      ]
     },
     "execution_count": 6,
     "metadata": {},
     "output_type": "execute_result"
    }
   ],
   "source": [
    "project.HomologSet.XX00000001.attrs"
   ]
  },
  {
   "cell_type": "markdown",
   "metadata": {},
   "source": [
    "Construct a phylogenetic tree of the sequences using PhyML"
   ]
  },
  {
   "cell_type": "code",
   "execution_count": 6,
   "metadata": {
    "collapsed": false
   },
   "outputs": [],
   "source": [
    "project.tree(b=\"-1\")"
   ]
  },
  {
   "cell_type": "code",
   "execution_count": 7,
   "metadata": {
    "collapsed": false
   },
   "outputs": [
    {
     "data": {
      "text/plain": [
       "{'Data set': '#1',\n",
       " 'Discrete gamma model': 'Yes',\n",
       " 'Gamma shape parameter': '28.845. aLRT statistics to test branches',\n",
       " 'Initial tree': 'BioNJ',\n",
       " 'Model of amino acids substitution': 'LG',\n",
       " 'Number of categories': '4',\n",
       " 'Number of taxa': '5',\n",
       " 'Parsimony': '6',\n",
       " 'Random seed': '1468012311',\n",
       " 'Run ID': 'none',\n",
       " 'Sequence filename': 'ml-tree.phy',\n",
       " 'Subtree patterns aliasing': 'no',\n",
       " 'Time used': '0h0m0s (0 seconds)',\n",
       " 'Tree size': '0.01336',\n",
       " 'Tree topology search ': 'NNIs',\n",
       " 'Unconstrained likelihood': '-1730.22164',\n",
       " 'Version': '20120412'}"
      ]
     },
     "execution_count": 7,
     "metadata": {},
     "output_type": "execute_result"
    }
   ],
   "source": [
    "project.Tree.stats"
   ]
  },
  {
   "cell_type": "markdown",
   "metadata": {},
   "source": [
    "Reconstruct the ancestral sequences at each node in the tree."
   ]
  },
  {
   "cell_type": "code",
   "execution_count": 8,
   "metadata": {
    "collapsed": false
   },
   "outputs": [],
   "source": [
    "project.reconstruct()"
   ]
  },
  {
   "cell_type": "code",
   "execution_count": 10,
   "metadata": {
    "collapsed": false
   },
   "outputs": [
    {
     "name": "stdout",
     "output_type": "stream",
     "text": [
      "/---------------------------------------------------- XX00000003\n",
      "|                                                               \n",
      "|                         /-------------------------- XX00000002\n",
      "+-------------------------+                                     \n",
      "|                         \\-------------------------- XX00000004\n",
      "|                                                               \n",
      "|                         /-------------------------- XX00000001\n",
      "\\-------------------------+                                     \n",
      "                          \\-------------------------- XX00000005\n",
      "                                                                \n",
      "                                                                \n"
     ]
    }
   ],
   "source": [
    "project.Tree.DendroPy.print_plot()"
   ]
  },
  {
   "cell_type": "code",
   "execution_count": 22,
   "metadata": {
    "collapsed": false
   },
   "outputs": [],
   "source": [
    "project.HomologSet.Write.fasta(fname=\"file-to-load.fasta\")"
   ]
  },
  {
   "cell_type": "code",
   "execution_count": 23,
   "metadata": {
    "collapsed": false
   },
   "outputs": [],
   "source": [
    "project.HomologSet.Write.csv(fname=\"file-to-load.csv\",\n",
    "    tags=(\"id\",\"accver\",\"orgname\",\"sequence\",\"taxid\", \"latest_align\")\n",
    ")"
   ]
  },
  {
   "cell_type": "code",
   "execution_count": null,
   "metadata": {
    "collapsed": true
   },
   "outputs": [],
   "source": []
  }
 ],
 "metadata": {
  "kernelspec": {
   "display_name": "Python 3",
   "language": "python",
   "name": "python3"
  },
  "language_info": {
   "codemirror_mode": {
    "name": "ipython",
    "version": 3
   },
   "file_extension": ".py",
   "mimetype": "text/x-python",
   "name": "python",
   "nbconvert_exporter": "python",
   "pygments_lexer": "ipython3",
   "version": "3.5.0"
  },
  "widgets": {
   "state": {},
   "version": "1.1.1"
  }
 },
 "nbformat": 4,
 "nbformat_minor": 0
}
