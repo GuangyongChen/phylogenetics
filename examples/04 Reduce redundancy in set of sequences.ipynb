{
 "cells": [
  {
   "cell_type": "markdown",
   "metadata": {},
   "source": [
    "## Reduce redundancy in set of sequences."
   ]
  },
  {
   "cell_type": "markdown",
   "metadata": {},
   "source": [
    "The set of sequences retrieved from our full BLASTing is too large to construct a tree computationally. To circumvent this problem, we'll use a program called CDHIT to reduce highly similar sequences that provide redundant information in our maximum likelihood calculation. `phylogenetics` package has a simple API to use CDHIT from within Python."
   ]
  },
  {
   "cell_type": "code",
   "execution_count": 10,
   "metadata": {
    "collapsed": true
   },
   "outputs": [],
   "source": [
    "from phylogenetics.utils import load_homologset\n",
    "\n",
    "# Run CDHIT from python\n",
    "from phylogenetics.cdhit import run_cdhit"
   ]
  },
  {
   "cell_type": "markdown",
   "metadata": {},
   "source": [
    "We set the redundancy cutoff value to reach a list of roughly 300 sequences. Once the clusters are determined, ideally we want to select representative sequences from those clusters that are known (not hypothetical). We'll use the positive keyword argument to select sequences that look like alpha-lytic protease."
   ]
  },
  {
   "cell_type": "code",
   "execution_count": 11,
   "metadata": {
    "collapsed": false
   },
   "outputs": [
    {
     "name": "stdout",
     "output_type": "stream",
     "text": [
      "Number of sequences: 366\n"
     ]
    }
   ],
   "source": [
    "redundancy_cutoff = 0.85\n",
    "representative_names = (\"human\")\n",
    "\n",
    "# Load the homolog set\n",
    "homolog_set = load_homologset(\"../homologs/03_homologs.pickle\")\n",
    "\n",
    "# Run Cdhit, with representative sequences that have highest rank\n",
    "clean_homologs = run_cdhit(homolog_set, redund_cutoff=0.85, positive=representative_names)\n",
    "\n",
    "print(\"Number of sequences: \" + str(len(clean_homologs.homologs)))"
   ]
  },
  {
   "cell_type": "markdown",
   "metadata": {},
   "source": [
    "Save these homologs to file."
   ]
  },
  {
   "cell_type": "code",
   "execution_count": 13,
   "metadata": {
    "collapsed": true
   },
   "outputs": [],
   "source": [
    "clean_homologs.write(\"../homologs/04_clean_homologs.pickle\", format=\"pickle\")"
   ]
  }
 ],
 "metadata": {
  "kernelspec": {
   "display_name": "Python 3",
   "language": "python",
   "name": "python3"
  },
  "language_info": {
   "codemirror_mode": {
    "name": "ipython",
    "version": 3
   },
   "file_extension": ".py",
   "mimetype": "text/x-python",
   "name": "python",
   "nbconvert_exporter": "python",
   "pygments_lexer": "ipython3",
   "version": "3.4.0"
  }
 },
 "nbformat": 4,
 "nbformat_minor": 0
}
