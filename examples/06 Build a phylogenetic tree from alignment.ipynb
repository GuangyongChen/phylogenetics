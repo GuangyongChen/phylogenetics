{
 "cells": [
  {
   "cell_type": "markdown",
   "metadata": {},
   "source": [
    "# Build a phylogenetic tree\n",
    "\n",
    "PhyML is used in this package to calculate the maximum likelihood tree for set of aligned sequences. Using the `run_phyml` command, a `.phylip` file is created for the aligned sequences and passed into PhyML. A `.nwk` file is generated (note that the alignment might take a while), and a tree attribute is added to the homolog set. Note, the homolog names in the tree are comprised of the unique ID names since thats the format that PhyML will take."
   ]
  },
  {
   "cell_type": "code",
   "execution_count": 4,
   "metadata": {
    "collapsed": true
   },
   "outputs": [],
   "source": [
    "from phylogenetics.utils import load_homologset\n",
    "\n",
    "# Module for switching names in newick\n",
    "from phylogenetics.names import switch\n",
    "\n",
    "# Run CDHIT from python\n",
    "from phylogenetics.phyml import run_phyml\n"
   ]
  },
  {
   "cell_type": "markdown",
   "metadata": {},
   "source": [
    "Load the homolog object, and run phyml."
   ]
  },
  {
   "cell_type": "code",
   "execution_count": 5,
   "metadata": {
    "collapsed": false
   },
   "outputs": [],
   "source": [
    "homolog_set = load_homologset(\"../fastas/05_aligned_homologs.pickle\")"
   ]
  },
  {
   "cell_type": "code",
   "execution_count": null,
   "metadata": {
    "collapsed": true
   },
   "outputs": [],
   "source": [
    "tree_set = run_phyml(homolog_set, \"06_tree\")"
   ]
  },
  {
   "cell_type": "markdown",
   "metadata": {},
   "source": [
    "Since the newick file has only the unique ID's for each homolog, let's add more readable names to the file. The `switch` function enables this."
   ]
  },
  {
   "cell_type": "code",
   "execution_count": null,
   "metadata": {
    "collapsed": true
   },
   "outputs": [],
   "source": [
    "switch(\"06_tree.phy_phyml_tree.nwk\", # newick file to change\n",
    "       tree_set,                  # homolog object to use\n",
    "       \"id\",                      # current description used in newick\n",
    "       [\"id\", \"species\", \"organism\", \"length\"] # New description we'd like to use\n",
    ")"
   ]
  }
 ],
 "metadata": {
  "kernelspec": {
   "display_name": "Python 3",
   "language": "python",
   "name": "python3"
  },
  "language_info": {
   "codemirror_mode": {
    "name": "ipython",
    "version": 3
   },
   "file_extension": ".py",
   "mimetype": "text/x-python",
   "name": "python",
   "nbconvert_exporter": "python",
   "pygments_lexer": "ipython3",
   "version": "3.4.0"
  }
 },
 "nbformat": 4,
 "nbformat_minor": 0
}
